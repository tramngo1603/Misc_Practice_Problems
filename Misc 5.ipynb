{
 "cells": [
  {
   "cell_type": "markdown",
   "metadata": {},
   "source": [
    "## Exercise Question 5: Given two sets, Checks if One Set is Subset or superset of Another Set. if the subset is found delete all elements from that set"
   ]
  },
  {
   "cell_type": "code",
   "execution_count": 20,
   "metadata": {},
   "outputs": [],
   "source": [
    "#step 1: make a set out of the two given sets given. If len(new_set) = len(set1) or = len(set2), then set 1 = subset. \n",
    "\n",
    "\n",
    "\n",
    "def subset_check(arr1,arr2):\n",
    "    \n",
    "    new_set = set(arr1 + arr2)\n",
    "    \n",
    "    if len(new_set) == len(arr1):\n",
    "        return 'Second List is a subset of List 1. List 2 = [ ]'\n",
    "    \n",
    "    if len(new_set) == len(arr2):\n",
    "        return 'First List is a subset of List 2. List 1 = [ ]'\n",
    "    \n",
    "    else: pass\n",
    "    "
   ]
  },
  {
   "cell_type": "code",
   "execution_count": 21,
   "metadata": {},
   "outputs": [
    {
     "data": {
      "text/plain": [
       "'First List is a subset of List 2. List 1 = [ ]'"
      ]
     },
     "execution_count": 21,
     "metadata": {},
     "output_type": "execute_result"
    }
   ],
   "source": [
    "subset_check([27, 43, 34],[34, 93, 22, 27, 43, 53, 48])"
   ]
  },
  {
   "cell_type": "code",
   "execution_count": null,
   "metadata": {},
   "outputs": [],
   "source": []
  }
 ],
 "metadata": {
  "kernelspec": {
   "display_name": "Python 3",
   "language": "python",
   "name": "python3"
  },
  "language_info": {
   "codemirror_mode": {
    "name": "ipython",
    "version": 3
   },
   "file_extension": ".py",
   "mimetype": "text/x-python",
   "name": "python",
   "nbconvert_exporter": "python",
   "pygments_lexer": "ipython3",
   "version": "3.7.0"
  }
 },
 "nbformat": 4,
 "nbformat_minor": 2
}
